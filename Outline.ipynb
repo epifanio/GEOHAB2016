{
 "cells": [
  {
   "cell_type": "markdown",
   "metadata": {},
   "source": [
    "**Outline**\n",
    "\n",
    "* **Unsupervised Classification**\n",
    "\n",
    "    * [Set up GRASS environment](00 Set up GRASS environment.ipynb)\n",
    "\n",
    "    * [Import Digital Bathymetry and Backscatter](01 Import Digital Bathymetry and Backscatter.ipynb)\n",
    "\n",
    "    * [Morfological parameters Extraction](02 Morfological parameters Extraction.ipynb)\n",
    "\n",
    "    * [Landforms Extraction](03 Landforms Extraction.ipynb)\n",
    "\n",
    "    * [DTM + Backscatter Clustering](04 DTM + Backscatter Clustering.ipynb)\n",
    "\n",
    "    * [DTM + Backscatter + BS-Derivatives](05 DTM + Backscatter + BS-Derivatives.ipynb)\n",
    "\n",
    "    * [Results Comparison](06 Results Comparison.ipynb)\n",
    "\n",
    "* [Presentation](Presentation)\n",
    "\n",
    "* **Dataset**\n",
    "    * [Bathymetry](DATA/bathy.tif)\n",
    "    * [Backscatter](DATA/m2d.tif)\n",
    "    * [fluidfactor](DATA/fluidfactor.tif)\n",
    "    * [roughness](DATA/roughness.tif)\n",
    "    * [Images]()\n",
    "    * [raw MBES]()"
   ]
  }
 ],
 "metadata": {
  "kernelspec": {
   "display_name": "Python 2",
   "language": "python",
   "name": "python2"
  },
  "language_info": {
   "codemirror_mode": {
    "name": "ipython",
    "version": 2
   },
   "file_extension": ".py",
   "mimetype": "text/x-python",
   "name": "python",
   "nbconvert_exporter": "python",
   "pygments_lexer": "ipython2",
   "version": "2.7.6"
  }
 },
 "nbformat": 4,
 "nbformat_minor": 0
}
