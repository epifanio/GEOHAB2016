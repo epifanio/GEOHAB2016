{
 "cells": [
  {
   "cell_type": "code",
   "execution_count": 1,
   "metadata": {
    "collapsed": true
   },
   "outputs": [],
   "source": [
    "%matplotlib inline\n",
    "import numpy as np\n",
    "from cluster import *\n",
    "from IPython.core.display import Image"
   ]
  },
  {
   "cell_type": "markdown",
   "metadata": {},
   "source": [
    "**Normalize Backscatter dataset**"
   ]
  },
  {
   "cell_type": "code",
   "execution_count": 2,
   "metadata": {
    "collapsed": false
   },
   "outputs": [
    {
     "name": "stdout",
     "output_type": "stream",
     "text": [
      "   0%\b\b\b\b\b   3%\b\b\b\b\b   6%\b\b\b\b\b   9%\b\b\b\b\b  12%\b\b\b\b\b  15%\b\b\b\b\b  18%\b\b\b\b\b  21%\b\b\b\b\b  24%\b\b\b\b\b  27%\b\b\b\b\b  30%\b\b\b\b\b  33%\b\b\b\b\b  36%\b\b\b\b\b  39%\b\b\b\b\b  42%\b\b\b\b\b  45%\b\b\b\b\b  48%\b\b\b\b\b  51%\b\b\b\b\b  54%\b\b\b\b\b  57%\b\b\b\b\b  60%\b\b\b\b\b  63%\b\b\b\b\b  66%\b\b\b\b\b  69%\b\b\b\b\b  72%\b\b\b\b\b  75%\b\b\b\b\b  78%\b\b\b\b\b  81%\b\b\b\b\b  84%\b\b\b\b\b  87%\b\b\b\b\b  90%\b\b\b\b\b  93%\b\b\b\b\b  96%\b\b\b\b\b  99%\b\b\b\b\b 100%\b\b\b\b\b\n",
      "['-42.60048', '9.049044']\n"
     ]
    },
    {
     "data": {
      "text/plain": [
       "['min=0.164570971033832', 'max=0.999999993328022']"
      ]
     },
     "execution_count": 2,
     "metadata": {},
     "output_type": "execute_result"
    }
   ],
   "source": [
    "backscatter='backscatter'\n",
    "vrange = !r.info -r {backscatter}\n",
    "vmin = vrange[0].split('=')[1]\n",
    "vmax = vrange[1].split('=')[1]\n",
    "!r.mapcalc expression=\"normalized_backscatter=0+((({backscatter}-{vmin})*(1-0))/({vmax}-{vmin}))\" --o \n",
    "print([vmin,vmax])\n",
    "bs_range = !r.info -r normalized_backscatter\n",
    "bs_range"
   ]
  },
  {
   "cell_type": "markdown",
   "metadata": {},
   "source": [
    "**Load names of layers with morphological features**"
   ]
  },
  {
   "cell_type": "code",
   "execution_count": 3,
   "metadata": {
    "collapsed": true
   },
   "outputs": [],
   "source": [
    "img = np.load('features.npy')"
   ]
  },
  {
   "cell_type": "markdown",
   "metadata": {},
   "source": [
    "**Append normalized backscatter to the list of layers**"
   ]
  },
  {
   "cell_type": "code",
   "execution_count": 4,
   "metadata": {
    "collapsed": true
   },
   "outputs": [],
   "source": [
    "img = list(img)\n",
    "img.append('normalized_backscatter')\n",
    "img = np.asarray(img)"
   ]
  },
  {
   "cell_type": "markdown",
   "metadata": {},
   "source": [
    "**Generate $N-Dimensional$ array to store the features layer**"
   ]
  },
  {
   "cell_type": "code",
   "execution_count": 5,
   "metadata": {
    "collapsed": false
   },
   "outputs": [],
   "source": [
    "imagegroup = img2array(img)"
   ]
  },
  {
   "cell_type": "markdown",
   "metadata": {},
   "source": [
    "**Compute  *BS-hybrid landform classes* **"
   ]
  },
  {
   "cell_type": "code",
   "execution_count": 6,
   "metadata": {
    "collapsed": false
   },
   "outputs": [
    {
     "name": "stdout",
     "output_type": "stream",
     "text": [
      "Initializing clusters along diagonal of N-dimensional bounding box.\n",
      "\b\b\b\b\b\b\b\b\b\b\b\b\b\b\b\b\b\b\b\b\b\b\b\b\b\b\b\b\b\b\b\b\b\b\b\b\b\b\b\b\b\b\b\b\b\b\b\b\b\b\b\b\b\b\b\b\b\b\b\b\b\b\b\b\b\b\b\b\b\b\b\b\b\b\b\b\b\b\b\b\b\b\b\b\b\b\b\b\b\b\b\b\b\b\b\b\b\b\b\b\b\b\b\b\b\b\b\b\b\b\b\b\b\b\b\b\b\b\b\b\b\b\b\b\b\b\b\b\b\b\b\b\b\b\b\b\b\b\b\b\b\b\b\b\b\b\b\b\b\b\b\b\b\b\b\b\b\b\b\b\b\b\b\b\b\b\b\b\b\b\b\b\b\b\b\b\b\b\b\b\b\b\b\b\b\b\b\b\b\b\b\b\b\b\b\b\b\b\b\b\b\b\b\b\b\b\b\b\b\b\b\b\b\b\b\b\b\b\b\b\b\b\b\b\b\b\b\b\b\b\b\b\b\b\b\b\b\b\b\b\b\b\b\b\b\b\b\b\b\b\b\b\b\b\b\b\b\b\b\b\b\b\b\b\b\b\b\b\b\b\b\b\b\b\b\b\b\b\b\b\b\b\b\b\b\b\b\b\b\b\b\b\b\b\b\b\b\b\b\b\b\b\b\b\b\b\b\b\b\b\b\b\b\b\b\b\b\b\b\b\b\b\b\b\b\b\b\b\b\b\b\b\b\b\b\b\b\b\b\b\b\b\b\b\b\b\b\b\b\b\b\b\b\b\b\b\b\b\b\b\b\b\b\b\b\b\b\b\b\b\b\b\b\b\b\b\b\b\b\b\b\b\b\b\b\b\b\b\b\b\b\b\b\b\b\b\b\b\b\b\b\b\b\b\b\b\b\b\b\b\b\b\b\b\b\b\b\b\b\b\b\b\b\b\b\b\b\b\b\b\b\b\b\b\b\b\b\b\b\b\b\b\b\b\b\b\b\b\b\b\b\b\b\b\b\b\b\b\b\b\b\b\b\b\b\b\b\b\b\b\b\b\b\b\b\b\b\b\b\b\b\b\b\b\b\b\b\b\b\b\b\b\b\b\b\b\b\b\b\b\b\b\b\b\b\b\b\b\b\b\b\b\b\b\b\b\b\b\b\b\b\b\b\b\b\b\b\b\b\b\b\b\b\b\b\b\b\b\b\b\b\b\b\b\b\b\b\b\b\b\b\b\b\b\b\b\b\b\b\b\b\b\b\b\b\b\b\b\b\b\b\b\b\b\b\b\b\b\b\b\b\b\b\b\b\b\b\b\b\b\b\b\b\b\b\b\b\b\b\b\b\b\b\b\b\b\b\b\b\b\b\b\b\b\b\b\b\b\b\b\b\b\b\b\b\b\b\b\b\b\b\b\b\b\b\b\b\b\b\b\b\b\b\b\b\b\b\b\b\b\b\b\b\b\b\b\b\b\b\b\b\b\b\b\b\b\b\b\b\b\b\b\b\b\b\b\b\b\b\b\b\b\b\b\b\b\b\b\b\b\b\b\b\b\b\b\b\b\b\b\b\b\b\b\b\b\b\b\b\b\b\b\b\b\b\b\b\b\b\b\b\b\b\b\b\b\b\b\b\b\b\b\b\b\b\b\b\b\b\b\b\b\b\b\b\b\b\b\b\b\b\b\b\b\b\b\b\b\b\b\b\b\b\b\b\b\b\b\b\b\b\b\b\b\b\b\b\b\b\b\b\b\b\b\b\b\b\b\b\b\b\b\b\b\b\b\b\b\b\b\b\b\b\b\b\b\b\b\b\b\b\b\b\b\b\b\b\b\b\b\b\b\b\b\b\b\b\b\b\b\b\b\b\b\b\b\b\b\b\b\b\b\b\b\b\b\b\b\b\b\b\b\b\b\b\b\b\b\b\b\b\b\b\b\b\b\b\b\b\b\b\b\b\b\b\b\b\b\b\b\b\b\b\b\b\b\b\b\b\b\b\b\b\b\b\b\b\b\b\b\b\b\b\b\b\b\b\b\b\b\b\b\b\b\b\b\b\b\b\b\b\b\b\b\b\b\b\b\b\b\b\b\b\b\b\b\b\b\b\b\b\b\b\b\b\b\b\b\b\b\b\b\b\b\b\b\b\b\b\b\b\b\b\b\b\b\b\b\b\b\b\b\b\b\b\b\b\b\b\b\b\b\b\b\b\b\b\b\b\b\b\b\b\b\b\b\b\b\b\b\b\b\b\b\b\b\b\b\b\b\b\b\b\b\b\b\b\b\b\b\b\b\b\b\b\b\b\b\b\b\b\b\b\b\b\b\b\b\b\b\b\b\b\b\b\b\b\b\b\b\b\b\b\b\b\b\b\b\b\b\b\b\b\b\b\b\b\b\b\b\b\b\b\b\b\b\b\b\b\b\b\b\b\b\b\b\b\b\b\b\b\b\b\b\b\b\b\b\b\b\b\b\b\b\b\b\b\b\b\b\b\b\b\b\b\b\b\b\b\b\b\b\b\b\b\b\b\b\b\b\b\b\b\b\b\b\b\b\b\b\b\b\b\b\b\b\b\b\b\b\b\b\b\b\b\b\b\b\b\b\b\b\b\b\b\b\b\b\b\b\b\b\b\b\b\b\b\b\b\b\b\b\b\b\b\b\b\b\b\b\b\b\b\b\b\b\b\b\b\b\b\b\b\b\b\b\b\b\b\b\b\b\b\b\b\b\b\b\b\b\b\b\b\b\b\b\b\b\b\b\b\b\b\b\b\b\b\b\b\b\b\b\b\b\b\b\b\b\b\b\b\b\b\b\b\b\b\b\b\b\b\b\b\b\b\b\b\b\b\b\b\b\b\b\b\b\b\b\b\b\b\b\b\b\b\b\b\b\b\b\b\b\b\b\b\b\b\b\b\b\b\b\b\b\b\b\b\b\b\b\b\b\b\b\b\b\b\b\b\b\b\b\b\b\b\b\b\b\b\b\b\b\b\b\b\b\b\b\b\b\b\b\b\b\b\b\b\b\b\b\b\b\b\b\b\b\b\b\b\b\b\b\b\b\b\b\b\b\b\b\b\b\b\b\b\b\b\b\b\b\b\b\b\b\b\b\b\b\b\b\b\b\b\b\b\b\b\b\b\b\b\b\b\b\b\b\b\b\b\b\b\b\b\b\b\b\b\b\b\b\b\b\b\b\b\b\b\b\b\b\b\b\b\b\b\b\b\b\b\b\b\b\b\b\b\b\b\b\b\b\b\b\b\b\b\b\b\b\b\b\b\b\b\b\b\b\b\b\b\b\b\b\b\b\b\b\b\b\b\b\b\b\b\b\b\b\b\b\b\b\b\b\b\b\b\b\b\b\b\b\b\b\bkmeans terminated with 6 clusters after 71 iterations.\n"
     ]
    },
    {
     "data": {
      "image/png": "[encoded data removed]",
      "text/plain": [
       "<matplotlib.figure.Figure at 0x7efe93f47cd0>"
      ]
     },
     "metadata": {},
     "output_type": "display_data"
    }
   ],
   "source": [
    "k = 7\n",
    "cluster=\"cluster7bs\"\n",
    "classifier = getKmeans(imagegroup=imagegroup, k=k)\n",
    "spectralPlot(classifier[1])"
   ]
  },
  {
   "cell_type": "markdown",
   "metadata": {},
   "source": [
    "**Write the results back to GRASS GIS database**"
   ]
  },
  {
   "cell_type": "code",
   "execution_count": 7,
   "metadata": {
    "collapsed": false
   },
   "outputs": [
    {
     "name": "stdout",
     "output_type": "stream",
     "text": [
      "newmap cluster7bs written to GRASS MAPSET\n"
     ]
    }
   ],
   "source": [
    "writeGarray(m=classifier[0], mapname=cluster)"
   ]
  },
  {
   "cell_type": "markdown",
   "metadata": {},
   "source": [
    "**Display results**"
   ]
  },
  {
   "cell_type": "code",
   "execution_count": 8,
   "metadata": {
    "collapsed": true
   },
   "outputs": [
    {
     "data": {
      "image/png": "[encoded data removed]",
      "text/plain": [
       "<IPython.core.display.Image object>"
      ]
     },
     "execution_count": 8,
     "metadata": {},
     "output_type": "execute_result"
    }
   ],
   "source": [
    "layer=cluster\n",
    "!d.mon start=cairo --q output=TMP/{layer}.png --overwrite\n",
    "!d.rast map={layer} --q\n",
    "!d.mon stop=cairo --q\n",
    "Image('TMP/'+layer+'.png')"
   ]
  },
  {
   "cell_type": "markdown",
   "metadata": {},
   "source": [
    "**Export Results**"
   ]
  },
  {
   "cell_type": "code",
   "execution_count": 9,
   "metadata": {
    "collapsed": false
   },
   "outputs": [
    {
     "name": "stdout",
     "output_type": "stream",
     "text": [
      "Checking GDAL data type and nodata value...\n",
      "   2%\b\b\b\b\b   5%\b\b\b\b\b   8%\b\b\b\b\b  11%\b\b\b\b\b  14%\b\b\b\b\b  17%\b\b\b\b\b  20%\b\b\b\b\b  23%\b\b\b\b\b  26%\b\b\b\b\b  29%\b\b\b\b\b  32%\b\b\b\b\b  35%\b\b\b\b\b  38%\b\b\b\b\b  41%\b\b\b\b\b  44%\b\b\b\b\b  47%\b\b\b\b\b  50%\b\b\b\b\b  53%\b\b\b\b\b  56%\b\b\b\b\b  59%\b\b\b\b\b  62%\b\b\b\b\b  65%\b\b\b\b\b  68%\b\b\b\b\b  71%\b\b\b\b\b  74%\b\b\b\b\b  77%\b\b\b\b\b  80%\b\b\b\b\b  83%\b\b\b\b\b  86%\b\b\b\b\b  89%\b\b\b\b\b  92%\b\b\b\b\b  95%\b\b\b\b\b  98%\b\b\b\b\b 100%\b\b\b\b\b\n",
      "Using GDAL data type <Float64>\n",
      "Exporting raster data to GTiff format...\n",
      "ERROR 6: SetColorTable() only supported for Byte or UInt16 bands in TIFF format.\n",
      "   2%\b\b\b\b\b   5%\b\b\b\b\b   8%\b\b\b\b\b  11%\b\b\b\b\b  14%\b\b\b\b\b  17%\b\b\b\b\b  20%\b\b\b\b\b  23%\b\b\b\b\b  26%\b\b\b\b\b  29%\b\b\b\b\b  32%\b\b\b\b\b  35%\b\b\b\b\b  38%\b\b\b\b\b  41%\b\b\b\b\b  44%\b\b\b\b\b  47%\b\b\b\b\b  50%\b\b\b\b\b  53%\b\b\b\b\b  56%\b\b\b\b\b  59%\b\b\b\b\b  62%\b\b\b\b\b  65%\b\b\b\b\b  68%\b\b\b\b\b  71%\b\b\b\b\b  74%\b\b\b\b\b  77%\b\b\b\b\b  80%\b\b\b\b\b  83%\b\b\b\b\b  86%\b\b\b\b\b  89%\b\b\b\b\b  92%\b\b\b\b\b  95%\b\b\b\b\b  98%\b\b\b\b\b 100%\b\b\b\b\b\n",
      "r.out.gdal complete. File <cluster7bs.tif> created.\n",
      "   0%\b\b\b\b\b   3%\b\b\b\b\b   6%\b\b\b\b\b   9%\b\b\b\b\b  12%\b\b\b\b\b  15%\b\b\b\b\b  18%\b\b\b\b\b  21%\b\b\b\b\b  24%\b\b\b\b\b  27%\b\b\b\b\b  30%\b\b\b\b\b  33%\b\b\b\b\b  36%\b\b\b\b\b  39%\b\b\b\b\b  42%\b\b\b\b\b  45%\b\b\b\b\b  48%\b\b\b\b\b  51%\b\b\b\b\b  54%\b\b\b\b\b  57%\b\b\b\b\b  60%\b\b\b\b\b  63%\b\b\b\b\b  66%\b\b\b\b\b  69%\b\b\b\b\b  72%\b\b\b\b\b  75%\b\b\b\b\b  78%\b\b\b\b\b  81%\b\b\b\b\b  84%\b\b\b\b\b  87%\b\b\b\b\b  90%\b\b\b\b\b  93%\b\b\b\b\b  96%\b\b\b\b\b  99%\b\b\b\b\b 100%\b\b\b\b\b\n",
      "Checking GDAL data type and nodata value...\n",
      "   2%\b\b\b\b\b   5%\b\b\b\b\b   8%\b\b\b\b\b  11%\b\b\b\b\b  14%\b\b\b\b\b  17%\b\b\b\b\b  20%\b\b\b\b\b  23%\b\b\b\b\b  26%\b\b\b\b\b  29%\b\b\b\b\b  32%\b\b\b\b\b  35%\b\b\b\b\b  38%\b\b\b\b\b  41%\b\b\b\b\b  44%\b\b\b\b\b  47%\b\b\b\b\b  50%\b\b\b\b\b  53%\b\b\b\b\b  56%\b\b\b\b\b  59%\b\b\b\b\b  62%\b\b\b\b\b  65%\b\b\b\b\b  68%\b\b\b\b\b  71%\b\b\b\b\b  74%\b\b\b\b\b  77%\b\b\b\b\b  80%\b\b\b\b\b  83%\b\b\b\b\b  86%\b\b\b\b\b  89%\b\b\b\b\b  92%\b\b\b\b\b  95%\b\b\b\b\b  98%\b\b\b\b\b 100%\b\b\b\b\b\n",
      "Using GDAL data type <Byte>\n",
      "Exporting raster data to GTiff format...\n",
      "   2%\b\b\b\b\b   5%\b\b\b\b\b   8%\b\b\b\b\b  11%\b\b\b\b\b  14%\b\b\b\b\b  17%\b\b\b\b\b  20%\b\b\b\b\b  23%\b\b\b\b\b  26%\b\b\b\b\b  29%\b\b\b\b\b  32%\b\b\b\b\b  35%\b\b\b\b\b  38%\b\b\b\b\b  41%\b\b\b\b\b  44%\b\b\b\b\b  47%\b\b\b\b\b  50%\b\b\b\b\b  53%\b\b\b\b\b  56%\b\b\b\b\b  59%\b\b\b\b\b  62%\b\b\b\b\b  65%\b\b\b\b\b  68%\b\b\b\b\b  71%\b\b\b\b\b  74%\b\b\b\b\b  77%\b\b\b\b\b  80%\b\b\b\b\b  83%\b\b\b\b\b  86%\b\b\b\b\b  89%\b\b\b\b\b  92%\b\b\b\b\b  95%\b\b\b\b\b  98%\b\b\b\b\b 100%\b\b\b\b\b\n",
      "r.out.gdal complete. File <cluster7bs_int.tif> created.\n",
      "   0%\b\b\b\b\b   3%\b\b\b\b\b   6%\b\b\b\b\b   9%\b\b\b\b\b  12%\b\b\b\b\b  15%\b\b\b\b\b  18%\b\b\b\b\b  21%\b\b\b\b\b  24%\b\b\b\b\b  27%\b\b\b\b\b  30%\b\b\b\b\b  33%\b\b\b\b\b  36%\b\b\b\b\b  39%\b\b\b\b\b  42%\b\b\b\b\b  45%\b\b\b\b\b  48%\b\b\b\b\b  51%\b\b\b\b\b  54%\b\b\b\b\b  57%\b\b\b\b\b  60%\b\b\b\b\b  63%\b\b\b\b\b  66%\b\b\b\b\b  69%\b\b\b\b\b  72%\b\b\b\b\b  75%\b\b\b\b\b  78%\b\b\b\b\b  81%\b\b\b\b\b  84%\b\b\b\b\b  87%\b\b\b\b\b  90%\b\b\b\b\b  93%\b\b\b\b\b  96%\b\b\b\b\b  99%\b\b\b\b\b 100%\b\b\b\b\b\n",
      "Checking GDAL data type and nodata value...\n",
      "   2%\b\b\b\b\b   5%\b\b\b\b\b   8%\b\b\b\b\b  11%\b\b\b\b\b  14%\b\b\b\b\b  17%\b\b\b\b\b  20%\b\b\b\b\b  23%\b\b\b\b\b  26%\b\b\b\b\b  29%\b\b\b\b\b  32%\b\b\b\b\b  35%\b\b\b\b\b  38%\b\b\b\b\b  41%\b\b\b\b\b  44%\b\b\b\b\b  47%\b\b\b\b\b  50%\b\b\b\b\b  53%\b\b\b\b\b  56%\b\b\b\b\b  59%\b\b\b\b\b  62%\b\b\b\b\b  65%\b\b\b\b\b  68%\b\b\b\b\b  71%\b\b\b\b\b  74%\b\b\b\b\b  77%\b\b\b\b\b  80%\b\b\b\b\b  83%\b\b\b\b\b  86%\b\b\b\b\b  89%\b\b\b\b\b  92%\b\b\b\b\b  95%\b\b\b\b\b  98%\b\b\b\b\b 100%\b\b\b\b\b\n",
      "Using GDAL data type <Byte>\n",
      "Exporting raster data to GTiff format...\n",
      "   2%\b\b\b\b\b   5%\b\b\b\b\b   8%\b\b\b\b\b  11%\b\b\b\b\b  14%\b\b\b\b\b  17%\b\b\b\b\b  20%\b\b\b\b\b  23%\b\b\b\b\b  26%\b\b\b\b\b  29%\b\b\b\b\b  32%\b\b\b\b\b  35%\b\b\b\b\b  38%\b\b\b\b\b  41%\b\b\b\b\b  44%\b\b\b\b\b  47%\b\b\b\b\b  50%\b\b\b\b\b  53%\b\b\b\b\b  56%\b\b\b\b\b  59%\b\b\b\b\b  62%\b\b\b\b\b  65%\b\b\b\b\b  68%\b\b\b\b\b  71%\b\b\b\b\b  74%\b\b\b\b\b  77%\b\b\b\b\b  80%\b\b\b\b\b  83%\b\b\b\b\b  86%\b\b\b\b\b  89%\b\b\b\b\b  92%\b\b\b\b\b  95%\b\b\b\b\b  98%\b\b\b\b\b 100%\b\b\b\b\b\n",
      "r.out.gdal complete. File <cluster7bs_int_mode_3.tif> created.\n"
     ]
    }
   ],
   "source": [
    "!r.out.gdal input={cluster} output={cluster}.tif format=GTiff type=Float64 --o\n",
    "!r.mapcalc expression=\"{cluster}_int=int({cluster})\" --o \n",
    "!r.out.gdal input={cluster}_int output={cluster}_int.tif format=GTiff type=Byte --o \n",
    "filt=3\n",
    "!r.neighbors input={cluster}_int output={cluster}_int_mode_{filt} method=mode size={filt} --o \n",
    "!r.out.gdal input={cluster}_int_mode_{filt} output={cluster}_int_mode_{filt}.tif format=GTiff type=Byte --o "
   ]
  },
  {
   "cell_type": "markdown",
   "metadata": {},
   "source": [
    "**Coverage Report**"
   ]
  },
  {
   "cell_type": "code",
   "execution_count": 10,
   "metadata": {
    "collapsed": false
   },
   "outputs": [
    {
     "name": "stdout",
     "output_type": "stream",
     "text": [
      "+-----------------------------------------------------------------------------+\r\n",
      "|                         RASTER MAP CATEGORY REPORT                          |\r\n",
      "|LOCATION: nc_basic_spm_grass7                        Thu May  5 14:24:00 2016|\r\n",
      "|-----------------------------------------------------------------------------|\r\n",
      "|          north: 4546466    east: 509140                                     |\r\n",
      "|REGION    south: 4545764    west: 505748                                     |\r\n",
      "|          res:         1    res:       1                                     |\r\n",
      "|-----------------------------------------------------------------------------|\r\n",
      "|MASK: none                                                                   |\r\n",
      "|-----------------------------------------------------------------------------|\r\n",
      "|MAP: (untitled) (cluster7bs in user1)                                        |\r\n",
      "|-----------------------------------------------------------------------------|\r\n",
      "|             Category Information               |    square|          |   %  |\r\n",
      "|#|description                                   |    meters|  hectares| cover|\r\n",
      "|-----------------------------------------------------------------------------|\r\n",
      "|0| . . . . . . . . . . . . . . . . . . . . . . .|   929,397| 92.939700| 39.03|\r\n",
      "|1| . . . . . . . . . . . . . . . . . . . . . . .|    36,262|  3.626200|  1.52|\r\n",
      "|2| . . . . . . . . . . . . . . . . . . . . . . .|   699,019| 69.901900| 29.36|\r\n",
      "|3| . . . . . . . . . . . . . . . . . . . . . . .|   461,640| 46.164000| 19.39|\r\n",
      "|4| . . . . . . . . . . . . . . . . . . . . . . .|   182,458| 18.245800|  7.66|\r\n",
      "|5| . . . . . . . . . . . . . . . . . . . . . . .|    72,408|  7.240800|  3.04|\r\n",
      "|-----------------------------------------------------------------------------|\r\n",
      "|TOTAL                                           | 2,381,184|238.118400|100.00|\r\n",
      "+-----------------------------------------------------------------------------+\r\n"
     ]
    }
   ],
   "source": [
    "!r.report -i -e map={cluster} units=me,h,p null=* nsteps=255 --q"
   ]
  }
 ],
 "metadata": {
  "kernelspec": {
   "display_name": "Python 2",
   "language": "python",
   "name": "python2"
  },
  "language_info": {
   "codemirror_mode": {
    "name": "ipython",
    "version": 2
   },
   "file_extension": ".py",
   "mimetype": "text/x-python",
   "name": "python",
   "nbconvert_exporter": "python",
   "pygments_lexer": "ipython2",
   "version": "2.7.6"
  }
 },
 "nbformat": 4,
 "nbformat_minor": 0
}
