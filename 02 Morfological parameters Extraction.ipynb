{
 "cells": [
  {
   "cell_type": "code",
   "execution_count": 1,
   "metadata": {
    "collapsed": true
   },
   "outputs": [],
   "source": [
    "from morfo import makemorfo\n",
    "import numpy as np"
   ]
  },
  {
   "cell_type": "markdown",
   "metadata": {
    "collapsed": true
   },
   "source": [
    "**Set the GRASS working region**"
   ]
  },
  {
   "cell_type": "code",
   "execution_count": 2,
   "metadata": {
    "collapsed": false
   },
   "outputs": [
    {
     "name": "stdout",
     "output_type": "stream",
     "text": [
      "projection: 99 (Lambert Conformal Conic)\r\n",
      "zone:       0\r\n",
      "datum:      nad83\r\n",
      "ellipsoid:  a=6378137 es=0.006694380022900787\r\n",
      "north:      4546466\r\n",
      "south:      4545764\r\n",
      "west:       505748\r\n",
      "east:       509140\r\n",
      "nsres:      1\r\n",
      "ewres:      1\r\n",
      "rows:       702\r\n",
      "cols:       3392\r\n",
      "cells:      2381184\r\n"
     ]
    }
   ],
   "source": [
    "!g.region region=bathy -ap"
   ]
  },
  {
   "cell_type": "markdown",
   "metadata": {},
   "source": [
    "**Mask the bathymetry on top of the backscatter**\n",
    "\n",
    "[r.mask](https://grass.osgeo.org/grass71/manuals/r.mask)"
   ]
  },
  {
   "cell_type": "code",
   "execution_count": 3,
   "metadata": {
    "collapsed": false
   },
   "outputs": [
    {
     "name": "stdout",
     "output_type": "stream",
     "text": [
      "All subsequent raster operations will be limited to the MASK area. Removing\n",
      "or renaming raster map named 'MASK' will restore raster operations to\n",
      "normal.\n",
      "   0%\b\b\b\b\b   3%\b\b\b\b\b   6%\b\b\b\b\b   9%\b\b\b\b\b  12%\b\b\b\b\b  15%\b\b\b\b\b  18%\b\b\b\b\b  21%\b\b\b\b\b  24%\b\b\b\b\b  27%\b\b\b\b\b  30%\b\b\b\b\b  33%\b\b\b\b\b  36%\b\b\b\b\b  39%\b\b\b\b\b  42%\b\b\b\b\b  45%\b\b\b\b\b  48%\b\b\b\b\b  51%\b\b\b\b\b  54%\b\b\b\b\b  57%\b\b\b\b\b  60%\b\b\b\b\b  63%\b\b\b\b\b  66%\b\b\b\b\b  69%\b\b\b\b\b  72%\b\b\b\b\b  75%\b\b\b\b\b  78%\b\b\b\b\b  81%\b\b\b\b\b  84%\b\b\b\b\b  87%\b\b\b\b\b  90%\b\b\b\b\b  93%\b\b\b\b\b  96%\b\b\b\b\b  99%\b\b\b\b\b 100%\b\b\b\b\b\n",
      "Raster MASK removed\n"
     ]
    }
   ],
   "source": [
    "#!r.mask -r\n",
    "!r.mask raster=backscatter \n",
    "!r.mapcalc expression=\"bathy1m=bathy\" --o\n",
    "!r.mask -r "
   ]
  },
  {
   "cell_type": "markdown",
   "metadata": {},
   "source": [
    "**Extract morfological parameters from the bathymetry**\n",
    "\n",
    "[makemorfo](morfo.py)"
   ]
  },
  {
   "cell_type": "code",
   "execution_count": 4,
   "metadata": {
    "collapsed": false
   },
   "outputs": [
    {
     "name": "stdout",
     "output_type": "stream",
     "text": [
      "average done\n",
      "minimum done\n",
      "maximum done\n",
      "er done\n",
      "slope done\n",
      "profc done\n",
      "crosc done\n",
      "minic done\n",
      "maxic done\n",
      "longc done\n",
      "xslope done\n"
     ]
    }
   ],
   "source": [
    "bathy='bathy1m'\n",
    "makemorfo(input=bathy, remove=True)\n",
    "img = makemorfo(input=bathy, nnwin=9, pmwin=15, resolution=1.0, overwrite=True, remove=False)"
   ]
  },
  {
   "cell_type": "code",
   "execution_count": 5,
   "metadata": {
    "collapsed": false
   },
   "outputs": [],
   "source": [
    "np.save('features.npy', img)"
   ]
  }
 ],
 "metadata": {
  "kernelspec": {
   "display_name": "Python 2",
   "language": "python",
   "name": "python2"
  },
  "language_info": {
   "codemirror_mode": {
    "name": "ipython",
    "version": 2
   },
   "file_extension": ".py",
   "mimetype": "text/x-python",
   "name": "python",
   "nbconvert_exporter": "python",
   "pygments_lexer": "ipython2",
   "version": "2.7.6"
  }
 },
 "nbformat": 4,
 "nbformat_minor": 0
}
