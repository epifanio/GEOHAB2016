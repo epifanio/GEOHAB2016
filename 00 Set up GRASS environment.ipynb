{
 "cells": [
  {
   "cell_type": "markdown",
   "metadata": {},
   "source": [
    "**Print out the current GRASS GIS settings**\n",
    "\n",
    "\n",
    "[g.gisenv](https://grass.osgeo.org/grass71/manuals/g.gisenv.html)"
   ]
  },
  {
   "cell_type": "code",
   "execution_count": 1,
   "metadata": {
    "collapsed": false
   },
   "outputs": [
    {
     "name": "stdout",
     "output_type": "stream",
     "text": [
      "GISDBASE=/home/user/grassdata\r\n",
      "LOCATION_NAME=nc_basic_spm_grass7\r\n",
      "MAPSET=user1\r\n",
      "GRASS_GUI=wxpython\r\n"
     ]
    }
   ],
   "source": [
    "!g.gisenv"
   ]
  },
  {
   "cell_type": "markdown",
   "metadata": {},
   "source": [
    "**Check the *EPSG* code from the imput file**"
   ]
  },
  {
   "cell_type": "code",
   "execution_count": 2,
   "metadata": {
    "collapsed": false
   },
   "outputs": [
    {
     "name": "stdout",
     "output_type": "stream",
     "text": [
      "                AUTHORITY[\"EPSG\",\"7030\"]],\r\n",
      "            AUTHORITY[\"EPSG\",\"6326\"]],\r\n",
      "        AUTHORITY[\"EPSG\",\"4326\"]],\r\n",
      "        AUTHORITY[\"EPSG\",\"9001\"]],\r\n",
      "    AUTHORITY[\"EPSG\",\"32619\"]]\r\n"
     ]
    }
   ],
   "source": [
    "!gdalinfo DATA/bathy.tif | grep EPSG"
   ]
  },
  {
   "cell_type": "markdown",
   "metadata": {},
   "source": [
    "**Import *[python grass scripting](https://grasswiki.osgeo.org/wiki/GRASS_and_Python)* library**"
   ]
  },
  {
   "cell_type": "code",
   "execution_count": 3,
   "metadata": {
    "collapsed": true
   },
   "outputs": [],
   "source": [
    "import grass.script as grass"
   ]
  },
  {
   "cell_type": "markdown",
   "metadata": {},
   "source": [
    "**Create a grass location using the *EPSG* code**\n",
    "\n",
    "[g.proj](https://grass.osgeo.org/grass71/manuals/g.proj.html)"
   ]
  },
  {
   "cell_type": "code",
   "execution_count": 4,
   "metadata": {
    "collapsed": false
   },
   "outputs": [
    {
     "name": "stdout",
     "output_type": "stream",
     "text": [
      "Location already exist\n"
     ]
    }
   ],
   "source": [
    "try:\n",
    "    grass.run_command('g.proj', epsg=32619, location='project')\n",
    "except:\n",
    "    print 'Location already exist'"
   ]
  },
  {
   "cell_type": "markdown",
   "metadata": {},
   "source": [
    "**Check the extension of study area**\n",
    "\n",
    "[r.in.xyz](https://grass.osgeo.org/grass71/manuals/r.in.xyz.html)"
   ]
  },
  {
   "cell_type": "code",
   "execution_count": 5,
   "metadata": {
    "collapsed": false
   },
   "outputs": [
    {
     "name": "stdout",
     "output_type": "stream",
     "text": [
      "projection: 99 (Lambert Conformal Conic)\r\n",
      "zone:       0\r\n",
      "datum:      nad83\r\n",
      "ellipsoid:  a=6378137 es=0.006694380022900787\r\n",
      "north:      4546465.84\r\n",
      "south:      4545764.44\r\n",
      "west:       505748.04\r\n",
      "east:       509139.96\r\n",
      "nsres:      0.28\r\n",
      "ewres:      0.28\r\n",
      "rows:       2505\r\n",
      "cols:       12114\r\n",
      "cells:      30345570\r\n"
     ]
    }
   ],
   "source": [
    "extent = !r.in.xyz input=DATA/90p.xyz output=90p.xyz separator=\" \" -isg --o\n",
    "\n",
    "n = extent[0].split(' ')[0].split('=')[1]\n",
    "s = extent[0].split(' ')[1].split('=')[1]\n",
    "e = extent[0].split(' ')[2].split('=')[1]\n",
    "w = extent[0].split(' ')[3].split('=')[1]\n",
    "\n",
    "!g.region s={s} n={n} w={w} e={e} res=0.28 save=backscatter -ap --o"
   ]
  },
  {
   "cell_type": "markdown",
   "metadata": {},
   "source": [
    "**Set and save a GRASS working region**\n",
    "\n",
    "[g.region](https://grass.osgeo.org/grass71/manuals/g.region.html)"
   ]
  },
  {
   "cell_type": "code",
   "execution_count": 6,
   "metadata": {
    "collapsed": false
   },
   "outputs": [
    {
     "name": "stdout",
     "output_type": "stream",
     "text": [
      "projection: 99 (Lambert Conformal Conic)\r\n",
      "zone:       0\r\n",
      "datum:      nad83\r\n",
      "ellipsoid:  a=6378137 es=0.006694380022900787\r\n",
      "north:      4546466\r\n",
      "south:      4545764\r\n",
      "west:       505748\r\n",
      "east:       509140\r\n",
      "nsres:      1\r\n",
      "ewres:      1\r\n",
      "rows:       702\r\n",
      "cols:       3392\r\n",
      "cells:      2381184\r\n"
     ]
    }
   ],
   "source": [
    "!g.region s={s} n={n} w={w} e={e} res=1 save=bathy -ap --o"
   ]
  }
 ],
 "metadata": {
  "kernelspec": {
   "display_name": "Python 2",
   "language": "python",
   "name": "python2"
  },
  "language_info": {
   "codemirror_mode": {
    "name": "ipython",
    "version": 2
   },
   "file_extension": ".py",
   "mimetype": "text/x-python",
   "name": "python",
   "nbconvert_exporter": "python",
   "pygments_lexer": "ipython2",
   "version": "2.7.6"
  }
 },
 "nbformat": 4,
 "nbformat_minor": 0
}
